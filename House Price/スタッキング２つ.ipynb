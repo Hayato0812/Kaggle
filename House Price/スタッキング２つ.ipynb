{
 "cells": [
  {
   "cell_type": "code",
   "execution_count": 17,
   "metadata": {},
   "outputs": [
    {
     "name": "stdout",
     "output_type": "stream",
     "text": [
      "(1460, 82)\n",
      "(1460, 81)\n",
      "(1459, 81)\n",
      "(2919, 82)\n"
     ]
    },
    {
     "name": "stderr",
     "output_type": "stream",
     "text": [
      "/Users/hayatoyamaguchi/anaconda3/lib/python3.7/site-packages/ipykernel_launcher.py:28: SettingWithCopyWarning: \n",
      "A value is trying to be set on a copy of a slice from a DataFrame\n",
      "\n",
      "See the caveats in the documentation: http://pandas.pydata.org/pandas-docs/stable/indexing.html#indexing-view-versus-copy\n",
      "/Users/hayatoyamaguchi/anaconda3/lib/python3.7/site-packages/ipykernel_launcher.py:26: SettingWithCopyWarning: \n",
      "A value is trying to be set on a copy of a slice from a DataFrame\n",
      "\n",
      "See the caveats in the documentation: http://pandas.pydata.org/pandas-docs/stable/indexing.html#indexing-view-versus-copy\n"
     ]
    },
    {
     "name": "stdout",
     "output_type": "stream",
     "text": [
      "(2919, 0)\n",
      "(2919, 351)\n",
      "(2919, 351)\n",
      "(2919,)\n",
      "(2919, 352)\n",
      "(2919, 314)\n"
     ]
    },
    {
     "name": "stderr",
     "output_type": "stream",
     "text": [
      "/Users/hayatoyamaguchi/anaconda3/lib/python3.7/site-packages/sklearn/preprocessing/data.py:625: DataConversionWarning: Data with input dtype int64 were all converted to float64 by StandardScaler.\n",
      "  return self.partial_fit(X, y)\n",
      "/Users/hayatoyamaguchi/anaconda3/lib/python3.7/site-packages/ipykernel_launcher.py:43: DataConversionWarning: Data with input dtype int64 were all converted to float64 by StandardScaler.\n"
     ]
    }
   ],
   "source": [
    "import numpy as np # linear algebra\n",
    "import pandas as pd # data processing, CSV file I/O (e.g. pd.read_csv)\n",
    "import os\n",
    "import csv as csv\n",
    "\n",
    "# /Users/hayatoyamaguchi/Public/kaggle/House Price/house-prices-advanced-regression-techniques\n",
    "\n",
    "path = \"house-prices-advanced-regression-techniques/\"\n",
    "train_df = pd.read_csv(path+\"train.csv\", header=0)\n",
    "test_df = pd.read_csv(path+\"test.csv\", header=0)\n",
    "train_df['WhatIsData'] = 'Train'\n",
    "test_df['WhatIsData'] = 'Test'\n",
    "train_df.tail()\n",
    "\n",
    "drop_train_df = train_df.drop('SalePrice',axis=1)\n",
    "allData = pd.concat([drop_train_df,test_df],axis=0)\n",
    "allData['TotalSF'] = allData['TotalBsmtSF'] + allData['1stFlrSF'] + allData['2ndFlrSF']\n",
    "print(train_df.shape)\n",
    "print(drop_train_df.shape)\n",
    "print(test_df.shape)\n",
    "print(allData.shape)\n",
    "allData[\"LotFrontage\"] = allData.groupby(\"Neighborhood\")[\"LotFrontage\"].transform(lambda x: x.fillna(x.median()))\n",
    "na_col_list = allData.isnull().sum()[allData.isnull().sum()>0].sort_values(ascending=False).index.tolist()\n",
    "for row in na_col_list:\n",
    "    if allData[row].dtypes == \"float64\":\n",
    "        allData[row][allData[row].isnull()] = 0\n",
    "    else:\n",
    "        allData[row][allData[row].isnull()] = \"NA\"\n",
    "\n",
    "dropData = allData[allData.columns[allData.columns != \"WhatIsData\"]]\n",
    "\n",
    "data_dummies = pd.get_dummies(dropData)\n",
    "transdropData = pd.concat([dropData,data_dummies],axis=1)\n",
    "\n",
    "transdropData = transdropData.select_dtypes(include=[\"float64\",\"int64\",\"uint8\"])\n",
    "transdropData = transdropData.astype('int')\n",
    "a = transdropData.select_dtypes(include=\"object\")\n",
    "print(a.shape)\n",
    "print(transdropData.shape)\n",
    "from sklearn.preprocessing import StandardScaler\n",
    "scaler = StandardScaler()\n",
    "columns = transdropData.columns.values\n",
    "transdropData_scaled = pd.DataFrame(scaler.fit(transdropData).transform(transdropData),columns=columns)\n",
    "print(transdropData_scaled.shape)\n",
    "print(allData[\"WhatIsData\"].shape)\n",
    "# transAllData = pd.concat([transdropData_scaled,allData[\"WhatIsData\"]],axis=1)\n",
    "\n",
    "transdropData_scaled[\"WhatIsData\"] = list(allData[\"WhatIsData\"])\n",
    "transAllData = transdropData_scaled\n",
    "\n",
    "from sklearn import preprocessing\n",
    "lab_enc = preprocessing.LabelEncoder()\n",
    "encoded = lab_enc.fit_transform(train_df[\"SalePrice\"])\n",
    "type(np.log(train_df[\"SalePrice\"][0]))\n",
    "\n",
    "transAllData2 = transAllData.loc[:,~transAllData.columns.duplicated()]\n",
    "print(transAllData.shape)\n",
    "print(transAllData2.shape)\n",
    "\n",
    "X_train = transAllData2[transAllData2['WhatIsData']=='Train'].drop(['WhatIsData','Id'], axis=1)\n",
    "y_train = np.log(train_df[\"SalePrice\"])\n",
    "X_test = transAllData2[transAllData2['WhatIsData']=='Test'].drop(['WhatIsData','Id'], axis=1)\n",
    "\n"
   ]
  },
  {
   "cell_type": "code",
   "execution_count": 18,
   "metadata": {},
   "outputs": [],
   "source": [
    "import matplotlib.pyplot as plt\n",
    "%matplotlib inline\n",
    "import seaborn as sns\n",
    "from sklearn.ensemble import RandomForestRegressor\n",
    "rf = RandomForestRegressor(n_estimators=80, max_features='auto')\n",
    "rf.fit(X_train, y_train)\n",
    "ranking = np.argsort(-rf.feature_importances_)\n",
    "X_train = X_train.iloc[:,ranking[:37]]\n",
    "X_test = X_test.iloc[:,ranking[:37]]\n",
    "X_train[\"Interaction\"] = X_train[\"TotalSF\"]*X_train[\"OverallQual\"]\n",
    "X_test[\"Interaction\"] = X_test[\"TotalSF\"]*X_test[\"OverallQual\"]"
   ]
  },
  {
   "cell_type": "code",
   "execution_count": 19,
   "metadata": {},
   "outputs": [
    {
     "name": "stderr",
     "output_type": "stream",
     "text": [
      "/Users/hayatoyamaguchi/anaconda3/lib/python3.7/site-packages/xgboost/core.py:587: FutureWarning: Series.base is deprecated and will be removed in a future version\n",
      "  if getattr(data, 'base', None) is not None and \\\n"
     ]
    },
    {
     "data": {
      "text/html": [
       "<div>\n",
       "<style scoped>\n",
       "    .dataframe tbody tr th:only-of-type {\n",
       "        vertical-align: middle;\n",
       "    }\n",
       "\n",
       "    .dataframe tbody tr th {\n",
       "        vertical-align: top;\n",
       "    }\n",
       "\n",
       "    .dataframe thead th {\n",
       "        text-align: right;\n",
       "    }\n",
       "</style>\n",
       "<table border=\"1\" class=\"dataframe\">\n",
       "  <thead>\n",
       "    <tr style=\"text-align: right;\">\n",
       "      <th></th>\n",
       "      <th>XGB</th>\n",
       "      <th>SVR</th>\n",
       "    </tr>\n",
       "  </thead>\n",
       "  <tbody>\n",
       "    <tr>\n",
       "      <th>0</th>\n",
       "      <td>12.243317</td>\n",
       "      <td>12.214020</td>\n",
       "    </tr>\n",
       "    <tr>\n",
       "      <th>1</th>\n",
       "      <td>12.068380</td>\n",
       "      <td>12.142772</td>\n",
       "    </tr>\n",
       "    <tr>\n",
       "      <th>2</th>\n",
       "      <td>12.273511</td>\n",
       "      <td>12.290374</td>\n",
       "    </tr>\n",
       "    <tr>\n",
       "      <th>3</th>\n",
       "      <td>11.981495</td>\n",
       "      <td>12.025587</td>\n",
       "    </tr>\n",
       "    <tr>\n",
       "      <th>4</th>\n",
       "      <td>12.554801</td>\n",
       "      <td>12.577624</td>\n",
       "    </tr>\n",
       "  </tbody>\n",
       "</table>\n",
       "</div>"
      ],
      "text/plain": [
       "         XGB        SVR\n",
       "0  12.243317  12.214020\n",
       "1  12.068380  12.142772\n",
       "2  12.273511  12.290374\n",
       "3  11.981495  12.025587\n",
       "4  12.554801  12.577624"
      ]
     },
     "execution_count": 19,
     "metadata": {},
     "output_type": "execute_result"
    }
   ],
   "source": [
    "from sklearn.linear_model import LinearRegression,Ridge\n",
    "import xgboost as xgb\n",
    "from sklearn.svm import SVR\n",
    "from sklearn.linear_model import Ridge\n",
    "\n",
    "\n",
    "xgbr = xgb.XGBRegressor(max_depth=3,learning_rate=0.1,colsample_bytree=0.6)\n",
    "xgbr.fit(X_train,y_train)\n",
    "\n",
    "svr = SVR(C=3,gamma=0.001)\n",
    "svr.fit(X_train,y_train)\n",
    "\n",
    "lr = LinearRegression()\n",
    "lr.fit(X_train,y_train)\n",
    "\n",
    "ridge = Ridge(alpha=30)\n",
    "ridge.fit(X_train,y_train)\n",
    "\n",
    "X_train2 = pd.DataFrame({\"XGB\":xgbr.predict(X_train),\"SVR\":svr.predict(X_train)})\n",
    "# X_train2 = pd.DataFrame({\"XGB\":xgbr.predict(X_train),\"SVR\":svr.predict(X_train)\n",
    "#                          ,\"Linear\":lr.predict(X_train),\"Ridge\":ridge.predict(X_train)})\n",
    "X_train2.head()\n",
    "\n",
    "##スタッキングしたモデルの過学習を抑えるためには、訓練データをさらに分割して、分割した中の訓練データで学習して、交差検証データのスコアを出力すればいい"
   ]
  },
  {
   "cell_type": "code",
   "execution_count": 8,
   "metadata": {},
   "outputs": [
    {
     "name": "stdout",
     "output_type": "stream",
     "text": [
      "0.9490044528763043\n",
      "0.9377482304975929\n"
     ]
    },
    {
     "data": {
      "image/png": "[encoded data removed]",
      "text/plain": [
       "<Figure size 432x288 with 1 Axes>"
      ]
     },
     "metadata": {
      "needs_background": "light"
     },
     "output_type": "display_data"
    }
   ],
   "source": [
    "from sklearn.model_selection import train_test_split\n",
    "from sklearn.metrics import mean_squared_error\n",
    "X_train2_train,X_val,y_train2_train,y_val = train_test_split(X_train2,y_train,random_state=0)\n",
    "# epochs = [100,200,300,400,500,600,700,800,900,1000,1095]\n",
    "epochs = [50,100,150,200,250,300,350,400,450,500,550,600,650,700,750,800,850,900,950,1000,1050,1095]\n",
    "train_scores = []\n",
    "test_scores = []\n",
    "for epoch in epochs:\n",
    "    model = LinearRegression()\n",
    "    X_train_epoch = X_train2_train[:epoch]\n",
    "    y_train_epoch = y_train2_train[:epoch]\n",
    "#     print(X_train_epoch.shape)\n",
    "#     print(y_train_epoch.shape)\n",
    "    model.fit(X_train_epoch,y_train_epoch)\n",
    "#     print(forest.score(X_train_epoch,y_train_epoch))\n",
    "#     print(forest.score(X_val,y_val))\n",
    "    train_scores.append(model.score(X_train_epoch,y_train_epoch))\n",
    "    test_scores.append(model.score(X_val,y_val))\n",
    "#     train_scores.append(np.sqrt(mean_squared_error(y_train_train ,model.predict(X_train_train))))\n",
    "#     test_scores.append(np.sqrt(mean_squared_error(y_val,model.predict(X_val))))\n",
    "\n",
    "    if epoch==1095:\n",
    "#             print(np.sqrt(mean_squared_error(y_train_train ,model.predict(X_train_train))))\n",
    "#             print(np.sqrt(mean_squared_error(y_val,model.predict(X_val))))\n",
    "            print(model.score(X_train_epoch,y_train_epoch))\n",
    "            print(model.score(X_val,y_val))\n",
    "    \n",
    "import matplotlib.pyplot as plt\n",
    "%matplotlib inline\n",
    "x = epochs\n",
    "y0 = train_scores\n",
    "y1 = test_scores\n",
    "fig = plt.figure()\n",
    "plt.xlabel('epoch')\n",
    "plt.plot(x, y0, label='train_scores')\n",
    "plt.plot(x, y1, label='test_scores')\n",
    "plt.legend()\n",
    "plt.show()"
   ]
  },
  {
   "cell_type": "code",
   "execution_count": 21,
   "metadata": {},
   "outputs": [
    {
     "name": "stdout",
     "output_type": "stream",
     "text": [
      "(1095,)\n",
      "(1095, 2)\n",
      "0.09189946389474833\n",
      "0.09777482800104982\n",
      "[ 1.13769651 -0.11120012]\n"
     ]
    },
    {
     "data": {
      "text/html": [
       "<div>\n",
       "<style scoped>\n",
       "    .dataframe tbody tr th:only-of-type {\n",
       "        vertical-align: middle;\n",
       "    }\n",
       "\n",
       "    .dataframe tbody tr th {\n",
       "        vertical-align: top;\n",
       "    }\n",
       "\n",
       "    .dataframe thead th {\n",
       "        text-align: right;\n",
       "    }\n",
       "</style>\n",
       "<table border=\"1\" class=\"dataframe\">\n",
       "  <thead>\n",
       "    <tr style=\"text-align: right;\">\n",
       "      <th></th>\n",
       "      <th>Id</th>\n",
       "      <th>SalePrice</th>\n",
       "    </tr>\n",
       "  </thead>\n",
       "  <tbody>\n",
       "    <tr>\n",
       "      <th>0</th>\n",
       "      <td>1461</td>\n",
       "      <td>125476.210068</td>\n",
       "    </tr>\n",
       "    <tr>\n",
       "      <th>1</th>\n",
       "      <td>1462</td>\n",
       "      <td>162664.649193</td>\n",
       "    </tr>\n",
       "    <tr>\n",
       "      <th>2</th>\n",
       "      <td>1463</td>\n",
       "      <td>186723.088547</td>\n",
       "    </tr>\n",
       "    <tr>\n",
       "      <th>3</th>\n",
       "      <td>1464</td>\n",
       "      <td>196183.505893</td>\n",
       "    </tr>\n",
       "    <tr>\n",
       "      <th>4</th>\n",
       "      <td>1465</td>\n",
       "      <td>186580.629294</td>\n",
       "    </tr>\n",
       "  </tbody>\n",
       "</table>\n",
       "</div>"
      ],
      "text/plain": [
       "     Id      SalePrice\n",
       "0  1461  125476.210068\n",
       "1  1462  162664.649193\n",
       "2  1463  186723.088547\n",
       "3  1464  196183.505893\n",
       "4  1465  186580.629294"
      ]
     },
     "execution_count": 21,
     "metadata": {},
     "output_type": "execute_result"
    }
   ],
   "source": [
    "from sklearn import linear_model\n",
    "from datetime import datetime\n",
    "from sklearn.model_selection import train_test_split\n",
    "X_train2_train,X_val2,y_train2_train,y_val2 = train_test_split(X_train2,y_train,random_state=0)\n",
    "\n",
    "time= datetime.now().strftime(\"%Y%m%d-%H%M%S\")\n",
    "\n",
    "reg = linear_model.LinearRegression()\n",
    "reg.fit(X_train2_train,y_train2_train)\n",
    "\n",
    "print(y_train2_train.shape)\n",
    "print(X_train2_train.shape)\n",
    "print(np.sqrt(mean_squared_error(y_train2_train ,reg.predict(X_train2_train))))\n",
    "print(np.sqrt(mean_squared_error(y_val2,reg.predict(X_val2))))\n",
    "\n",
    "print(reg.coef_)\n",
    "\n",
    "# X_test2 = pd.DataFrame({\"XGB\":xgbr.predict(X_test),\"SVR\":svr.predict(X_test)\n",
    "#                          ,\"Linear\":lr.predict(X_test),\"Ridge\":ridge.predict(X_test)})\n",
    "X_test2 = pd.DataFrame({\"XGB\":xgbr.predict(X_test),\"SVR\":svr.predict(X_test)})\n",
    "\n",
    "predictions = np.exp(reg.predict(X_test2))\n",
    "\n",
    "df_result = pd.DataFrame()\n",
    "df_result['Id'] = test_df['Id']\n",
    "df_result['SalePrice'] = predictions\n",
    "df_result.to_csv('result.csv'+time,index=False)\n",
    "df_result.head()"
   ]
  },
  {
   "cell_type": "code",
   "execution_count": 23,
   "metadata": {},
   "outputs": [
    {
     "name": "stderr",
     "output_type": "stream",
     "text": [
      "/Users/hayatoyamaguchi/anaconda3/lib/python3.7/site-packages/xgboost/core.py:587: FutureWarning: Series.base is deprecated and will be removed in a future version\n",
      "  if getattr(data, 'base', None) is not None and \\\n"
     ]
    },
    {
     "data": {
      "text/html": [
       "<div>\n",
       "<style scoped>\n",
       "    .dataframe tbody tr th:only-of-type {\n",
       "        vertical-align: middle;\n",
       "    }\n",
       "\n",
       "    .dataframe tbody tr th {\n",
       "        vertical-align: top;\n",
       "    }\n",
       "\n",
       "    .dataframe thead th {\n",
       "        text-align: right;\n",
       "    }\n",
       "</style>\n",
       "<table border=\"1\" class=\"dataframe\">\n",
       "  <thead>\n",
       "    <tr style=\"text-align: right;\">\n",
       "      <th></th>\n",
       "      <th>Id</th>\n",
       "      <th>SalePrice</th>\n",
       "    </tr>\n",
       "  </thead>\n",
       "  <tbody>\n",
       "    <tr>\n",
       "      <th>0</th>\n",
       "      <td>1461</td>\n",
       "      <td>125981.914062</td>\n",
       "    </tr>\n",
       "    <tr>\n",
       "      <th>1</th>\n",
       "      <td>1462</td>\n",
       "      <td>162622.140625</td>\n",
       "    </tr>\n",
       "    <tr>\n",
       "      <th>2</th>\n",
       "      <td>1463</td>\n",
       "      <td>185871.625000</td>\n",
       "    </tr>\n",
       "    <tr>\n",
       "      <th>3</th>\n",
       "      <td>1464</td>\n",
       "      <td>195907.734375</td>\n",
       "    </tr>\n",
       "    <tr>\n",
       "      <th>4</th>\n",
       "      <td>1465</td>\n",
       "      <td>185288.468750</td>\n",
       "    </tr>\n",
       "  </tbody>\n",
       "</table>\n",
       "</div>"
      ],
      "text/plain": [
       "     Id      SalePrice\n",
       "0  1461  125981.914062\n",
       "1  1462  162622.140625\n",
       "2  1463  185871.625000\n",
       "3  1464  195907.734375\n",
       "4  1465  185288.468750"
      ]
     },
     "execution_count": 23,
     "metadata": {},
     "output_type": "execute_result"
    }
   ],
   "source": [
    "time= datetime.now().strftime(\"%Y%m%d-%H%M%S\")\n",
    "\n",
    "xgbr = xgb.XGBRegressor(max_depth=3,learning_rate=0.1,colsample_bytree=0.6)\n",
    "xgbr.fit(X_train,y_train)\n",
    "predictions = np.exp(xgbr.predict(X_test))\n",
    "\n",
    "df_result = pd.DataFrame()\n",
    "df_result['Id'] = test_df['Id']\n",
    "df_result['SalePrice'] = predictions\n",
    "df_result.to_csv('result.csv'+time,index=False)\n",
    "df_result.head()"
   ]
  },
  {
   "cell_type": "code",
   "execution_count": null,
   "metadata": {},
   "outputs": [],
   "source": []
  }
 ],
 "metadata": {
  "kernelspec": {
   "display_name": "Python 3",
   "language": "python",
   "name": "python3"
  },
  "language_info": {
   "codemirror_mode": {
    "name": "ipython",
    "version": 3
   },
   "file_extension": ".py",
   "mimetype": "text/x-python",
   "name": "python",
   "nbconvert_exporter": "python",
   "pygments_lexer": "ipython3",
   "version": "3.7.1"
  }
 },
 "nbformat": 4,
 "nbformat_minor": 2
}
